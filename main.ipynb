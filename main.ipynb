{
 "cells": [
  {
   "cell_type": "raw",
   "metadata": {},
   "source": [
    "This project is aimed at getting a report of how the audience is reacting to a Youtube video by analyzing the top comments\n",
    "\n",
    "- The code in this notebook first takes authorization for you to fetch Youtube data from Google\n",
    "- Then You have to input the Youtube Video url or Video Title in the input box that will be provided\n",
    "- It will fetch the top 100 comments on that video and puts it in a dataframe, cleans the comments (of punctuations and other unnecessary stuff)\n",
    "- There are only words left now processes the words\n",
    "- Gives a sentiment score to the comments based on the words that were in that comment. A positive score between 0 and 1 to a good comment (depending upon how strongly positive the words are) while a negative score between 0 and -1 for a bad comment\n",
    "[for e.g. comment: good video, score: 0.6 ; comment: best video, score: 0.9\n",
    "similarly a comment having negative words like 'bad','disgusting','worst' will get a score between 0 and -1]\n",
    "- Based on average and the weighted average of these scores the program will make a General report and a Detailed report to give you an idea of how the audience reacted to the video\n",
    "- Lastly, It gives a pie chart showing the percentage of the various types of comments received\n",
    "\n",
    "Colab link to run the project: https://colab.research.google.com/drive/1v-IYc-4rxHwJuy2a5Sytqj24ZT91ggkR"
   ]
  },
  {
   "cell_type": "code",
   "execution_count": 1,
   "metadata": {},
   "outputs": [],
   "source": [
    "from apiclient.discovery import build\n",
    "from google_auth_oauthlib.flow import InstalledAppFlow\n",
    "\n",
    "# The CLIENT_SECRETS_FILE variable specifies the name of a file that contains\n",
    "# the OAuth 2.0 information for this application, including its client_id and\n",
    "# client_secret.\n",
    "\n",
    "CLIENT_SECRET_FILE = 'client_secret.json'\n",
    "SCOPES = ['https://www.googleapis.com/auth/youtube.force-ssl'] #['https://www.googleapis.com/auth/youtube']"
   ]
  },
  {
   "cell_type": "code",
   "execution_count": 3,
   "metadata": {},
   "outputs": [
    {
     "name": "stdout",
     "output_type": "stream",
     "text": [
      "Please visit this URL to authorize this application: https://accounts.google.com/o/oauth2/auth?response_type=code&client_id=767560891748-jbk021sppcve1umf80mg86i9feurctbr.apps.googleusercontent.com&redirect_uri=urn%3Aietf%3Awg%3Aoauth%3A2.0%3Aoob&scope=https%3A%2F%2Fwww.googleapis.com%2Fauth%2Fyoutube.force-ssl&state=i1ZHCzC0aqjkX9lbkRjA5MLqpLpKFE&prompt=consent&access_type=offline\n",
      "Enter the authorization code: 4/yAEsTrfW7t-9XKUv_XPDz-LKkhzksxEeCsszSh6ZrwQpYtzlw9oxk6g\n"
     ]
    }
   ],
   "source": [
    "\"\"\"Steps to authorize the application so that it will be able to fetch data:\n",
    "1. Run this cell\n",
    "2. Visit the url given below:\n",
    "https://accounts.google.com/o/oauth2/auth?response_type=code&client_id=767560891748-jbk021sppcve1umf80mg86i9feurctbr.apps.\n",
    "googleusercontent.com&redirect_uri=urn%3Aietf%3Awg%3Aoauth%3A2.0%3Aoob&scope=https%3A%2F%2Fwww.googleapis.com%2Fauth%2Fyoutube.\n",
    "force-ssl&state=aNFoL7KyYKJltw7zWlJSHInVPJYXKc&prompt=consent&access_type=offline\n",
    "3. Sign in with your Google account\n",
    "4. It will say that 'The app isn't verified' but dont worry about it Google is just warning you about an unknown app.\n",
    "But you know that it is harmless as it will just fetch the data and do sentiment analysis. So you can just click on Advanced.\n",
    "5. Click on 'Go to Yt Comments Sentiment Analysis (unsafe)'\n",
    "6. Click on Allow\n",
    "7. Lastly, click on allow\n",
    "8. Copy the token given and paste it in the input box below and press Enter.\n",
    "\"\"\"\n",
    "\n",
    "API_SERVICE_NAME = 'youtube'\n",
    "API_VERSION = 'v3'\n",
    "\n",
    "def get_authenticated_service():\n",
    "    flow = InstalledAppFlow.from_client_secrets_file(CLIENT_SECRET_FILE, SCOPES)\n",
    "    credentials = flow.run_console()\n",
    "    return build(API_SERVICE_NAME, API_VERSION, credentials = credentials)\n",
    "\n",
    "service = get_authenticated_service()"
   ]
  },
  {
   "cell_type": "code",
   "execution_count": 4,
   "metadata": {},
   "outputs": [
    {
     "data": {
      "text/plain": [
       "<googleapiclient.discovery.Resource at 0x1f4bf67b208>"
      ]
     },
     "execution_count": 4,
     "metadata": {},
     "output_type": "execute_result"
    }
   ],
   "source": [
    "service"
   ]
  },
  {
   "cell_type": "markdown",
   "metadata": {},
   "source": [
    "#### Giving the input of the Youtube video url/Title"
   ]
  },
  {
   "cell_type": "code",
   "execution_count": 5,
   "metadata": {},
   "outputs": [
    {
     "name": "stdout",
     "output_type": "stream",
     "text": [
      "Enter your Video url/Title here: https://www.youtube.com/watch?v=s1H8EzGGPLA  \n",
      "{'kind': 'youtube#searchListResponse', 'etag': '\"ksCrgYQhtFrXgbHAhi9Fo5t0C2I/Gm5qsZ3V6ay_Jb1rpkK2oVOXYNg\"', 'nextPageToken': 'CAEQAA', 'regionCode': 'IN', 'pageInfo': {'totalResults': 7, 'resultsPerPage': 1}, 'items': [{'kind': 'youtube#searchResult', 'etag': '\"ksCrgYQhtFrXgbHAhi9Fo5t0C2I/p7HEquEcQ4oU0HIRMZiECwKWx00\"', 'id': {'kind': 'youtube#video', 'videoId': 's1H8EzGGPLA'}, 'snippet': {'publishedAt': '2017-05-02T17:25:29.000Z', 'channelId': 'UCPxMZIFE856tbTfdkdjzTSQ', 'title': 'How to Dress Well for Indian men | Ranveer&#39;s LifeHacks | BeerBiceps Fashion', 'description': 'Subscribe to our HINDI YouTube Channel : https://www.youtube.com/c/RanveerAllahbadia INSTAGRAM : @beerbiceps www.facebook.com/beerbiceps Lee ...', 'thumbnails': {'default': {'url': 'https://i.ytimg.com/vi/s1H8EzGGPLA/default.jpg', 'width': 120, 'height': 90}, 'medium': {'url': 'https://i.ytimg.com/vi/s1H8EzGGPLA/mqdefault.jpg', 'width': 320, 'height': 180}, 'high': {'url': 'https://i.ytimg.com/vi/s1H8EzGGPLA/hqdefault.jpg', 'width': 480, 'height': 360}}, 'channelTitle': 'BeerBiceps', 'liveBroadcastContent': 'none'}}]}\n",
      "\n",
      "[{'kind': 'youtube#searchResult', 'etag': '\"ksCrgYQhtFrXgbHAhi9Fo5t0C2I/p7HEquEcQ4oU0HIRMZiECwKWx00\"', 'id': {'kind': 'youtube#video', 'videoId': 's1H8EzGGPLA'}, 'snippet': {'publishedAt': '2017-05-02T17:25:29.000Z', 'channelId': 'UCPxMZIFE856tbTfdkdjzTSQ', 'title': 'How to Dress Well for Indian men | Ranveer&#39;s LifeHacks | BeerBiceps Fashion', 'description': 'Subscribe to our HINDI YouTube Channel : https://www.youtube.com/c/RanveerAllahbadia INSTAGRAM : @beerbiceps www.facebook.com/beerbiceps Lee ...', 'thumbnails': {'default': {'url': 'https://i.ytimg.com/vi/s1H8EzGGPLA/default.jpg', 'width': 120, 'height': 90}, 'medium': {'url': 'https://i.ytimg.com/vi/s1H8EzGGPLA/mqdefault.jpg', 'width': 320, 'height': 180}, 'high': {'url': 'https://i.ytimg.com/vi/s1H8EzGGPLA/hqdefault.jpg', 'width': 480, 'height': 360}}, 'channelTitle': 'BeerBiceps', 'liveBroadcastContent': 'none'}}]\n"
     ]
    }
   ],
   "source": [
    "# Search Query Initialisation\n",
    "\n",
    "query = input(\"Enter your Video url/Title here: \").strip()\n",
    "\n",
    "#Lets take the video for eg : https://www.youtube.com/watch?v=s1H8EzGGPLA\n",
    "\n",
    "query_results = service.search().list(\n",
    "        part = 'snippet',\n",
    "        q = query,\n",
    "        order = 'relevance', # You can consider using viewCount\n",
    "        maxResults = 1,\n",
    "        type = 'video', # Channels might appear in search results\n",
    "        relevanceLanguage = 'en',\n",
    "        safeSearch = 'moderate',\n",
    "        ).execute()\n",
    "print(query_results)\n",
    "print()\n",
    "print(query_results['items'])\n",
    "\n",
    "# Get Video IDs\n",
    "\n",
    "video_id = []\n",
    "channel = []\n",
    "video_title = []\n",
    "video_desc = []\n",
    "for item in query_results['items']:\n",
    "    video_id.append(item['id']['videoId'])\n",
    "    channel.append(item['snippet']['channelTitle'])\n",
    "    video_title.append(item['snippet']['title'])\n",
    "    video_desc.append(item['snippet']['description'])"
   ]
  },
  {
   "cell_type": "code",
   "execution_count": 6,
   "metadata": {},
   "outputs": [],
   "source": [
    "from googleapiclient.errors import HttpError"
   ]
  },
  {
   "cell_type": "raw",
   "metadata": {},
   "source": [
    "Get Comments of the first video"
   ]
  },
  {
   "cell_type": "code",
   "execution_count": 7,
   "metadata": {},
   "outputs": [
    {
     "name": "stderr",
     "output_type": "stream",
     "text": [
      "100%|█████████████████████████████████████████████████████████████████| 1/1 [00:00<00:00,  2.64it/s]\n"
     ]
    }
   ],
   "source": [
    "video_id_pop = []\n",
    "channel_pop = []\n",
    "video_title_pop = []\n",
    "video_desc_pop = []\n",
    "comments_pop = []\n",
    "comment_id_pop = []\n",
    "reply_count_pop = []\n",
    "like_count_pop = []\n",
    "\n",
    "from tqdm import tqdm\n",
    "for i, video in enumerate(tqdm(video_id, ncols = 100)):\n",
    "    response = service.commentThreads().list(\n",
    "                    part = 'snippet',\n",
    "                    videoId = video,\n",
    "                    maxResults = 100, # Only take top 100 comments...\n",
    "                    order = 'relevance', #... ranked on relevance\n",
    "                    textFormat = 'plainText',\n",
    "                    ).execute()\n",
    "\n",
    "    comments_temp = []\n",
    "    comment_id_temp = []\n",
    "    reply_count_temp = []\n",
    "    like_count_temp = []\n",
    "    for item in response['items']:\n",
    "        comments_temp.append(item['snippet']['topLevelComment']['snippet']['textDisplay'])\n",
    "        comment_id_temp.append(item['snippet']['topLevelComment']['id'])\n",
    "        reply_count_temp.append(item['snippet']['totalReplyCount'])\n",
    "        like_count_temp.append(item['snippet']['topLevelComment']['snippet']['likeCount'])\n",
    "    comments_pop.extend(comments_temp)\n",
    "    comment_id_pop.extend(comment_id_temp)\n",
    "    reply_count_pop.extend(reply_count_temp)\n",
    "    like_count_pop.extend(like_count_temp)\n",
    "    \n",
    "video_id_pop.extend([video_id[i]])\n",
    "channel_pop.extend([channel[i]])\n",
    "video_title_pop.extend([video_title[i]])\n",
    "video_desc_pop.extend([video_desc[i]])\n",
    "query_pop = [query]"
   ]
  },
  {
   "cell_type": "markdown",
   "metadata": {},
   "source": [
    "#### Storing the video information like Title and description in a dictionary:"
   ]
  },
  {
   "cell_type": "code",
   "execution_count": 8,
   "metadata": {},
   "outputs": [],
   "source": [
    "import pandas as pd\n",
    "\n",
    "info_dict = {\n",
    "        'Query': query_pop,\n",
    "        'Channel': channel_pop,\n",
    "        'Video Title': video_title_pop,\n",
    "        'Video Description': video_desc_pop,\n",
    "        'Video ID': video_id_pop,\n",
    "        }"
   ]
  },
  {
   "cell_type": "code",
   "execution_count": 9,
   "metadata": {},
   "outputs": [
    {
     "data": {
      "text/plain": [
       "{'Query': ['https://www.youtube.com/watch?v=s1H8EzGGPLA'],\n",
       " 'Channel': ['BeerBiceps'],\n",
       " 'Video Title': ['How to Dress Well for Indian men | Ranveer&#39;s LifeHacks | BeerBiceps Fashion'],\n",
       " 'Video Description': ['Subscribe to our HINDI YouTube Channel : https://www.youtube.com/c/RanveerAllahbadia INSTAGRAM : @beerbiceps www.facebook.com/beerbiceps Lee ...'],\n",
       " 'Video ID': ['s1H8EzGGPLA']}"
      ]
     },
     "execution_count": 9,
     "metadata": {},
     "output_type": "execute_result"
    }
   ],
   "source": [
    "info_dict"
   ]
  },
  {
   "cell_type": "code",
   "execution_count": 10,
   "metadata": {},
   "outputs": [
    {
     "data": {
      "text/plain": [
       "['How to Dress Well for Indian men | Ranveer&#39;s LifeHacks | BeerBiceps Fashion']"
      ]
     },
     "execution_count": 10,
     "metadata": {},
     "output_type": "execute_result"
    }
   ],
   "source": [
    "info_dict[\"Video Title\"]"
   ]
  },
  {
   "cell_type": "markdown",
   "metadata": {},
   "source": [
    "### Storing the info of the top comments on the video i.e. the comment and likes to the comment in a dictionary and then putting it in a dataframe named comments_df :"
   ]
  },
  {
   "cell_type": "code",
   "execution_count": 11,
   "metadata": {},
   "outputs": [
    {
     "name": "stdout",
     "output_type": "stream",
     "text": [
      "number of top comments taken:  100\n"
     ]
    }
   ],
   "source": [
    "#import pandas as pd\n",
    "\n",
    "comments_dict = {\n",
    "        'Comment': comments_pop,\n",
    "        'Comment ID': comment_id_pop,\n",
    "        'Replies': reply_count_pop,\n",
    "        'Likes': like_count_pop,\n",
    "        }\n",
    "print(\"number of top comments taken: \", len(comments_pop))\n",
    "comments_df = pd.DataFrame(comments_dict, columns = comments_dict.keys())"
   ]
  },
  {
   "cell_type": "code",
   "execution_count": 12,
   "metadata": {},
   "outputs": [
    {
     "data": {
      "text/html": [
       "<div>\n",
       "<style scoped>\n",
       "    .dataframe tbody tr th:only-of-type {\n",
       "        vertical-align: middle;\n",
       "    }\n",
       "\n",
       "    .dataframe tbody tr th {\n",
       "        vertical-align: top;\n",
       "    }\n",
       "\n",
       "    .dataframe thead th {\n",
       "        text-align: right;\n",
       "    }\n",
       "</style>\n",
       "<table border=\"1\" class=\"dataframe\">\n",
       "  <thead>\n",
       "    <tr style=\"text-align: right;\">\n",
       "      <th></th>\n",
       "      <th>Comment</th>\n",
       "      <th>Comment ID</th>\n",
       "      <th>Replies</th>\n",
       "      <th>Likes</th>\n",
       "    </tr>\n",
       "  </thead>\n",
       "  <tbody>\n",
       "    <tr>\n",
       "      <th>0</th>\n",
       "      <td>Next up : https://youtu.be/qUzD_yVwQi8</td>\n",
       "      <td>Ugj9oe4W_hoah3gCoAEC</td>\n",
       "      <td>43</td>\n",
       "      <td>326</td>\n",
       "    </tr>\n",
       "    <tr>\n",
       "      <th>1</th>\n",
       "      <td>How to dress sexy\\nStep 1- go to the gym\\nStep...</td>\n",
       "      <td>UghY7AP7KrW1oXgCoAEC</td>\n",
       "      <td>26</td>\n",
       "      <td>1217</td>\n",
       "    </tr>\n",
       "    <tr>\n",
       "      <th>2</th>\n",
       "      <td>zara is a budget brand.\\n       -ranveer allah...</td>\n",
       "      <td>UgxMLCZDTfOwBHF3UYF4AaABAg</td>\n",
       "      <td>5</td>\n",
       "      <td>191</td>\n",
       "    </tr>\n",
       "    <tr>\n",
       "      <th>3</th>\n",
       "      <td>Butt\\nButtt\\nWithout money every thing is waste</td>\n",
       "      <td>Ugzf8MB8PuTbRQfhgm14AaABAg</td>\n",
       "      <td>4</td>\n",
       "      <td>367</td>\n",
       "    </tr>\n",
       "    <tr>\n",
       "      <th>4</th>\n",
       "      <td>Cool, i have 1 pair of shoes and 1 wrist watch...</td>\n",
       "      <td>UgwebMo-LTmOUq52dBp4AaABAg</td>\n",
       "      <td>5</td>\n",
       "      <td>135</td>\n",
       "    </tr>\n",
       "    <tr>\n",
       "      <th>5</th>\n",
       "      <td>How many middle class boys have  a shoe wardro...</td>\n",
       "      <td>Ugzh1nwOR8qW9oBeYn14AaABAg</td>\n",
       "      <td>5</td>\n",
       "      <td>115</td>\n",
       "    </tr>\n",
       "    <tr>\n",
       "      <th>6</th>\n",
       "      <td>How to dress sexy?\\nGo to gym + earn money + d...</td>\n",
       "      <td>UgwnKD7nmFKhW-UpwwV4AaABAg</td>\n",
       "      <td>0</td>\n",
       "      <td>55</td>\n",
       "    </tr>\n",
       "    <tr>\n",
       "      <th>7</th>\n",
       "      <td>Everyone can dress up well if they have enough...</td>\n",
       "      <td>UgyfU_0vnkD3fh9p2fp4AaABAg</td>\n",
       "      <td>1</td>\n",
       "      <td>23</td>\n",
       "    </tr>\n",
       "    <tr>\n",
       "      <th>8</th>\n",
       "      <td>Bhai tere jaisa paisa nhi h.. Kuch budget wall...</td>\n",
       "      <td>UgzT-l787uhuk5K9WmB4AaABAg</td>\n",
       "      <td>4</td>\n",
       "      <td>178</td>\n",
       "    </tr>\n",
       "    <tr>\n",
       "      <th>9</th>\n",
       "      <td>his jeans is to baggy</td>\n",
       "      <td>Ugx_R4h-lQkJ0sr-7wx4AaABAg</td>\n",
       "      <td>2</td>\n",
       "      <td>70</td>\n",
       "    </tr>\n",
       "  </tbody>\n",
       "</table>\n",
       "</div>"
      ],
      "text/plain": [
       "                                             Comment  \\\n",
       "0             Next up : https://youtu.be/qUzD_yVwQi8   \n",
       "1  How to dress sexy\\nStep 1- go to the gym\\nStep...   \n",
       "2  zara is a budget brand.\\n       -ranveer allah...   \n",
       "3    Butt\\nButtt\\nWithout money every thing is waste   \n",
       "4  Cool, i have 1 pair of shoes and 1 wrist watch...   \n",
       "5  How many middle class boys have  a shoe wardro...   \n",
       "6  How to dress sexy?\\nGo to gym + earn money + d...   \n",
       "7  Everyone can dress up well if they have enough...   \n",
       "8  Bhai tere jaisa paisa nhi h.. Kuch budget wall...   \n",
       "9                              his jeans is to baggy   \n",
       "\n",
       "                   Comment ID  Replies  Likes  \n",
       "0        Ugj9oe4W_hoah3gCoAEC       43    326  \n",
       "1        UghY7AP7KrW1oXgCoAEC       26   1217  \n",
       "2  UgxMLCZDTfOwBHF3UYF4AaABAg        5    191  \n",
       "3  Ugzf8MB8PuTbRQfhgm14AaABAg        4    367  \n",
       "4  UgwebMo-LTmOUq52dBp4AaABAg        5    135  \n",
       "5  Ugzh1nwOR8qW9oBeYn14AaABAg        5    115  \n",
       "6  UgwnKD7nmFKhW-UpwwV4AaABAg        0     55  \n",
       "7  UgyfU_0vnkD3fh9p2fp4AaABAg        1     23  \n",
       "8  UgzT-l787uhuk5K9WmB4AaABAg        4    178  \n",
       "9  Ugx_R4h-lQkJ0sr-7wx4AaABAg        2     70  "
      ]
     },
     "execution_count": 12,
     "metadata": {},
     "output_type": "execute_result"
    }
   ],
   "source": [
    "comments_df.head(10)"
   ]
  },
  {
   "cell_type": "markdown",
   "metadata": {},
   "source": [
    "#### Taking the first comment into consideration to see how the code is working"
   ]
  },
  {
   "cell_type": "code",
   "execution_count": 13,
   "metadata": {},
   "outputs": [
    {
     "data": {
      "text/plain": [
       "'How to dress sexy\\nStep 1- go to the gym\\nStep 2- be regular'"
      ]
     },
     "execution_count": 13,
     "metadata": {},
     "output_type": "execute_result"
    }
   ],
   "source": [
    "comments_pop[1]"
   ]
  },
  {
   "cell_type": "markdown",
   "metadata": {},
   "source": [
    "#### Using re module to clean the comments from unnecessary stuff"
   ]
  },
  {
   "cell_type": "code",
   "execution_count": 14,
   "metadata": {},
   "outputs": [
    {
     "name": "stdout",
     "output_type": "stream",
     "text": [
      "How to dress sexy Step 1  go to the gym Step 2  be regular\n"
     ]
    }
   ],
   "source": [
    "import re\n",
    "refined_comment = re.sub('[^A-Za-z0-9 ]+', ' ', comments_pop[1])\n",
    "print(refined_comment)"
   ]
  },
  {
   "cell_type": "markdown",
   "metadata": {},
   "source": [
    "#### A list called refined_comments_pop to put the clean comments into"
   ]
  },
  {
   "cell_type": "code",
   "execution_count": 15,
   "metadata": {},
   "outputs": [],
   "source": [
    "refined_comments_pop = []\n",
    "for i in comments_pop:\n",
    "    refined_comment = re.sub('[^A-Za-z0-9 ]+', ' ', i)\n",
    "    refined_comments_pop.append(refined_comment)"
   ]
  },
  {
   "cell_type": "markdown",
   "metadata": {},
   "source": [
    "#### Checking to see if the 1st comment is clean:"
   ]
  },
  {
   "cell_type": "code",
   "execution_count": 17,
   "metadata": {},
   "outputs": [
    {
     "data": {
      "text/plain": [
       "'How to dress sexy Step 1  go to the gym Step 2  be regular'"
      ]
     },
     "execution_count": 17,
     "metadata": {},
     "output_type": "execute_result"
    }
   ],
   "source": [
    "refined_comments_pop[1]"
   ]
  },
  {
   "cell_type": "markdown",
   "metadata": {},
   "source": [
    "#### Making a dictionary to store refined comments and then amking a dataframe called refined_comments_df out of it"
   ]
  },
  {
   "cell_type": "code",
   "execution_count": 18,
   "metadata": {},
   "outputs": [
    {
     "data": {
      "text/html": [
       "<div>\n",
       "<style scoped>\n",
       "    .dataframe tbody tr th:only-of-type {\n",
       "        vertical-align: middle;\n",
       "    }\n",
       "\n",
       "    .dataframe tbody tr th {\n",
       "        vertical-align: top;\n",
       "    }\n",
       "\n",
       "    .dataframe thead th {\n",
       "        text-align: right;\n",
       "    }\n",
       "</style>\n",
       "<table border=\"1\" class=\"dataframe\">\n",
       "  <thead>\n",
       "    <tr style=\"text-align: right;\">\n",
       "      <th></th>\n",
       "      <th>Comment</th>\n",
       "      <th>Comment ID</th>\n",
       "      <th>Replies</th>\n",
       "      <th>Likes</th>\n",
       "    </tr>\n",
       "  </thead>\n",
       "  <tbody>\n",
       "    <tr>\n",
       "      <th>0</th>\n",
       "      <td>Next up   https youtu be qUzD yVwQi8</td>\n",
       "      <td>Ugj9oe4W_hoah3gCoAEC</td>\n",
       "      <td>43</td>\n",
       "      <td>326</td>\n",
       "    </tr>\n",
       "    <tr>\n",
       "      <th>1</th>\n",
       "      <td>How to dress sexy Step 1  go to the gym Step 2...</td>\n",
       "      <td>UghY7AP7KrW1oXgCoAEC</td>\n",
       "      <td>26</td>\n",
       "      <td>1217</td>\n",
       "    </tr>\n",
       "    <tr>\n",
       "      <th>2</th>\n",
       "      <td>zara is a budget brand         ranveer allahab...</td>\n",
       "      <td>UgxMLCZDTfOwBHF3UYF4AaABAg</td>\n",
       "      <td>5</td>\n",
       "      <td>191</td>\n",
       "    </tr>\n",
       "    <tr>\n",
       "      <th>3</th>\n",
       "      <td>Butt Buttt Without money every thing is waste</td>\n",
       "      <td>Ugzf8MB8PuTbRQfhgm14AaABAg</td>\n",
       "      <td>4</td>\n",
       "      <td>367</td>\n",
       "    </tr>\n",
       "    <tr>\n",
       "      <th>4</th>\n",
       "      <td>Cool  i have 1 pair of shoes and 1 wrist watch...</td>\n",
       "      <td>UgwebMo-LTmOUq52dBp4AaABAg</td>\n",
       "      <td>5</td>\n",
       "      <td>135</td>\n",
       "    </tr>\n",
       "    <tr>\n",
       "      <th>5</th>\n",
       "      <td>How many middle class boys have  a shoe wardro...</td>\n",
       "      <td>Ugzh1nwOR8qW9oBeYn14AaABAg</td>\n",
       "      <td>5</td>\n",
       "      <td>115</td>\n",
       "    </tr>\n",
       "    <tr>\n",
       "      <th>6</th>\n",
       "      <td>How to dress sexy Go to gym   earn money   don...</td>\n",
       "      <td>UgwnKD7nmFKhW-UpwwV4AaABAg</td>\n",
       "      <td>0</td>\n",
       "      <td>55</td>\n",
       "    </tr>\n",
       "    <tr>\n",
       "      <th>7</th>\n",
       "      <td>Everyone can dress up well if they have enough...</td>\n",
       "      <td>UgyfU_0vnkD3fh9p2fp4AaABAg</td>\n",
       "      <td>1</td>\n",
       "      <td>23</td>\n",
       "    </tr>\n",
       "    <tr>\n",
       "      <th>8</th>\n",
       "      <td>Bhai tere jaisa paisa nhi h  Kuch budget walla...</td>\n",
       "      <td>UgzT-l787uhuk5K9WmB4AaABAg</td>\n",
       "      <td>4</td>\n",
       "      <td>178</td>\n",
       "    </tr>\n",
       "    <tr>\n",
       "      <th>9</th>\n",
       "      <td>his jeans is to baggy</td>\n",
       "      <td>Ugx_R4h-lQkJ0sr-7wx4AaABAg</td>\n",
       "      <td>2</td>\n",
       "      <td>70</td>\n",
       "    </tr>\n",
       "  </tbody>\n",
       "</table>\n",
       "</div>"
      ],
      "text/plain": [
       "                                             Comment  \\\n",
       "0               Next up   https youtu be qUzD yVwQi8   \n",
       "1  How to dress sexy Step 1  go to the gym Step 2...   \n",
       "2  zara is a budget brand         ranveer allahab...   \n",
       "3      Butt Buttt Without money every thing is waste   \n",
       "4  Cool  i have 1 pair of shoes and 1 wrist watch...   \n",
       "5  How many middle class boys have  a shoe wardro...   \n",
       "6  How to dress sexy Go to gym   earn money   don...   \n",
       "7  Everyone can dress up well if they have enough...   \n",
       "8  Bhai tere jaisa paisa nhi h  Kuch budget walla...   \n",
       "9                              his jeans is to baggy   \n",
       "\n",
       "                   Comment ID  Replies  Likes  \n",
       "0        Ugj9oe4W_hoah3gCoAEC       43    326  \n",
       "1        UghY7AP7KrW1oXgCoAEC       26   1217  \n",
       "2  UgxMLCZDTfOwBHF3UYF4AaABAg        5    191  \n",
       "3  Ugzf8MB8PuTbRQfhgm14AaABAg        4    367  \n",
       "4  UgwebMo-LTmOUq52dBp4AaABAg        5    135  \n",
       "5  Ugzh1nwOR8qW9oBeYn14AaABAg        5    115  \n",
       "6  UgwnKD7nmFKhW-UpwwV4AaABAg        0     55  \n",
       "7  UgyfU_0vnkD3fh9p2fp4AaABAg        1     23  \n",
       "8  UgzT-l787uhuk5K9WmB4AaABAg        4    178  \n",
       "9  Ugx_R4h-lQkJ0sr-7wx4AaABAg        2     70  "
      ]
     },
     "execution_count": 18,
     "metadata": {},
     "output_type": "execute_result"
    }
   ],
   "source": [
    "refined_comments_dict = {\n",
    "        'Comment': refined_comments_pop,\n",
    "        'Comment ID': comment_id_pop,\n",
    "        'Replies': reply_count_pop,\n",
    "        'Likes': like_count_pop,\n",
    "        }\n",
    "refined_comments_df = pd.DataFrame(refined_comments_dict, columns = refined_comments_dict.keys())\n",
    "\n",
    "refined_comments_df.head(10)"
   ]
  },
  {
   "cell_type": "markdown",
   "metadata": {},
   "source": [
    "#### Making a dataframe df with selected columns:"
   ]
  },
  {
   "cell_type": "code",
   "execution_count": 19,
   "metadata": {},
   "outputs": [],
   "source": [
    "COLS = ['Comment','Likes', 'sentiment','subjectivity','polarity','weighted polarity']\n",
    "df = pd.DataFrame(columns=COLS)"
   ]
  },
  {
   "cell_type": "raw",
   "metadata": {},
   "source": [
    "Using textblob module to analyse the comments and give them scores: sentiment, subjectivity, polarity and weighted polairty based on how positive/negative the words in the comments are shown below in the dataframe df:\n",
    "NOTE: The polarity column was provided by textblob after analysing how positive/negative the words are and these are the scores that matter to us alot.\n",
    "The values for weighted polarity column were found by multiplying the polarity score with the number of likes on that comment as the number of likes tell us the number of people agreeing with the comment and thus we can capture their sentiment with it as well."
   ]
  },
  {
   "cell_type": "code",
   "execution_count": 20,
   "metadata": {},
   "outputs": [],
   "source": [
    "from textblob import TextBlob\n",
    "from itertools import islice\n",
    "\n",
    "for index, row in islice(refined_comments_df.iterrows(), 0, None):\n",
    "    new_entry = []\n",
    "    text_lower =row['Comment'].lower()\n",
    "    \n",
    "    blob = TextBlob(text_lower)\n",
    "    sentiment = blob.sentiment\n",
    "    \n",
    "    polarity = sentiment.polarity\n",
    "    if row['Likes'] > 0:\n",
    "        weighted_polarity = polarity * row['Likes']\n",
    "    else:\n",
    "        weighted_polarity = polarity\n",
    "    subjectivity = sentiment.subjectivity\n",
    "    likes = row['Likes']\n",
    "    \n",
    "    new_entry += [text_lower,likes,sentiment,subjectivity,polarity,weighted_polarity]\n",
    "    \n",
    "    final_df = pd.DataFrame([new_entry], columns=COLS)\n",
    "    df = df.append(final_df, ignore_index=True)"
   ]
  },
  {
   "cell_type": "code",
   "execution_count": 21,
   "metadata": {},
   "outputs": [
    {
     "data": {
      "text/html": [
       "<div>\n",
       "<style scoped>\n",
       "    .dataframe tbody tr th:only-of-type {\n",
       "        vertical-align: middle;\n",
       "    }\n",
       "\n",
       "    .dataframe tbody tr th {\n",
       "        vertical-align: top;\n",
       "    }\n",
       "\n",
       "    .dataframe thead th {\n",
       "        text-align: right;\n",
       "    }\n",
       "</style>\n",
       "<table border=\"1\" class=\"dataframe\">\n",
       "  <thead>\n",
       "    <tr style=\"text-align: right;\">\n",
       "      <th></th>\n",
       "      <th>Comment</th>\n",
       "      <th>Likes</th>\n",
       "      <th>sentiment</th>\n",
       "      <th>subjectivity</th>\n",
       "      <th>polarity</th>\n",
       "      <th>weighted polarity</th>\n",
       "    </tr>\n",
       "  </thead>\n",
       "  <tbody>\n",
       "    <tr>\n",
       "      <th>0</th>\n",
       "      <td>next up   https youtu be quzd yvwqi8</td>\n",
       "      <td>326</td>\n",
       "      <td>(0.0, 0.0)</td>\n",
       "      <td>0.000000</td>\n",
       "      <td>0.000000</td>\n",
       "      <td>0.000000</td>\n",
       "    </tr>\n",
       "    <tr>\n",
       "      <th>1</th>\n",
       "      <td>how to dress sexy step 1  go to the gym step 2...</td>\n",
       "      <td>1217</td>\n",
       "      <td>(0.25, 0.5384615384615384)</td>\n",
       "      <td>0.538462</td>\n",
       "      <td>0.250000</td>\n",
       "      <td>304.250000</td>\n",
       "    </tr>\n",
       "    <tr>\n",
       "      <th>2</th>\n",
       "      <td>zara is a budget brand         ranveer allahab...</td>\n",
       "      <td>191</td>\n",
       "      <td>(0.0, 0.0)</td>\n",
       "      <td>0.000000</td>\n",
       "      <td>0.000000</td>\n",
       "      <td>0.000000</td>\n",
       "    </tr>\n",
       "    <tr>\n",
       "      <th>3</th>\n",
       "      <td>butt buttt without money every thing is waste</td>\n",
       "      <td>367</td>\n",
       "      <td>(-0.2, 0.0)</td>\n",
       "      <td>0.000000</td>\n",
       "      <td>-0.200000</td>\n",
       "      <td>-73.400000</td>\n",
       "    </tr>\n",
       "    <tr>\n",
       "      <th>4</th>\n",
       "      <td>cool  i have 1 pair of shoes and 1 wrist watch...</td>\n",
       "      <td>135</td>\n",
       "      <td>(0.575, 0.675)</td>\n",
       "      <td>0.675000</td>\n",
       "      <td>0.575000</td>\n",
       "      <td>77.625000</td>\n",
       "    </tr>\n",
       "    <tr>\n",
       "      <th>5</th>\n",
       "      <td>how many middle class boys have  a shoe wardro...</td>\n",
       "      <td>115</td>\n",
       "      <td>(0.11904761904761904, 0.3773809523809524)</td>\n",
       "      <td>0.377381</td>\n",
       "      <td>0.119048</td>\n",
       "      <td>13.690476</td>\n",
       "    </tr>\n",
       "    <tr>\n",
       "      <th>6</th>\n",
       "      <td>how to dress sexy go to gym   earn money   don...</td>\n",
       "      <td>55</td>\n",
       "      <td>(0.35, 0.6)</td>\n",
       "      <td>0.600000</td>\n",
       "      <td>0.350000</td>\n",
       "      <td>19.250000</td>\n",
       "    </tr>\n",
       "    <tr>\n",
       "      <th>7</th>\n",
       "      <td>everyone can dress up well if they have enough...</td>\n",
       "      <td>23</td>\n",
       "      <td>(0.0, 0.5)</td>\n",
       "      <td>0.500000</td>\n",
       "      <td>0.000000</td>\n",
       "      <td>0.000000</td>\n",
       "    </tr>\n",
       "    <tr>\n",
       "      <th>8</th>\n",
       "      <td>bhai tere jaisa paisa nhi h  kuch budget walla...</td>\n",
       "      <td>178</td>\n",
       "      <td>(0.0, 0.0)</td>\n",
       "      <td>0.000000</td>\n",
       "      <td>0.000000</td>\n",
       "      <td>0.000000</td>\n",
       "    </tr>\n",
       "    <tr>\n",
       "      <th>9</th>\n",
       "      <td>his jeans is to baggy</td>\n",
       "      <td>70</td>\n",
       "      <td>(0.0, 0.0)</td>\n",
       "      <td>0.000000</td>\n",
       "      <td>0.000000</td>\n",
       "      <td>0.000000</td>\n",
       "    </tr>\n",
       "  </tbody>\n",
       "</table>\n",
       "</div>"
      ],
      "text/plain": [
       "                                             Comment Likes  \\\n",
       "0               next up   https youtu be quzd yvwqi8   326   \n",
       "1  how to dress sexy step 1  go to the gym step 2...  1217   \n",
       "2  zara is a budget brand         ranveer allahab...   191   \n",
       "3      butt buttt without money every thing is waste   367   \n",
       "4  cool  i have 1 pair of shoes and 1 wrist watch...   135   \n",
       "5  how many middle class boys have  a shoe wardro...   115   \n",
       "6  how to dress sexy go to gym   earn money   don...    55   \n",
       "7  everyone can dress up well if they have enough...    23   \n",
       "8  bhai tere jaisa paisa nhi h  kuch budget walla...   178   \n",
       "9                              his jeans is to baggy    70   \n",
       "\n",
       "                                   sentiment  subjectivity  polarity  \\\n",
       "0                                 (0.0, 0.0)      0.000000  0.000000   \n",
       "1                 (0.25, 0.5384615384615384)      0.538462  0.250000   \n",
       "2                                 (0.0, 0.0)      0.000000  0.000000   \n",
       "3                                (-0.2, 0.0)      0.000000 -0.200000   \n",
       "4                             (0.575, 0.675)      0.675000  0.575000   \n",
       "5  (0.11904761904761904, 0.3773809523809524)      0.377381  0.119048   \n",
       "6                                (0.35, 0.6)      0.600000  0.350000   \n",
       "7                                 (0.0, 0.5)      0.500000  0.000000   \n",
       "8                                 (0.0, 0.0)      0.000000  0.000000   \n",
       "9                                 (0.0, 0.0)      0.000000  0.000000   \n",
       "\n",
       "   weighted polarity  \n",
       "0           0.000000  \n",
       "1         304.250000  \n",
       "2           0.000000  \n",
       "3         -73.400000  \n",
       "4          77.625000  \n",
       "5          13.690476  \n",
       "6          19.250000  \n",
       "7           0.000000  \n",
       "8           0.000000  \n",
       "9           0.000000  "
      ]
     },
     "execution_count": 21,
     "metadata": {},
     "output_type": "execute_result"
    }
   ],
   "source": [
    "df.head(10)"
   ]
  },
  {
   "cell_type": "raw",
   "metadata": {},
   "source": [
    "Exporting this data to a csv file"
   ]
  },
  {
   "cell_type": "code",
   "execution_count": 22,
   "metadata": {},
   "outputs": [],
   "source": [
    "#exporting to csv\n",
    "df.to_csv('comments sentiment analysis.csv', mode='w', columns=COLS, index=False, encoding=\"utf-8\")"
   ]
  },
  {
   "cell_type": "code",
   "execution_count": 23,
   "metadata": {},
   "outputs": [
    {
     "name": "stdout",
     "output_type": "stream",
     "text": [
      "average polarity is: 0.21630727513227513\n",
      "--------------------------------------------------------------------------------\n",
      "Weighted average polarity is: 0.19287798667189673\n"
     ]
    }
   ],
   "source": [
    "avg_polarity = sum(df['polarity'])/len(df)\n",
    "print(\"average polarity is:\", avg_polarity)\n",
    "print(\"-\"*80)\n",
    "weighted_avg_polarity = sum(df['weighted polarity']/(len(df) + sum(df['Likes']) ) )\n",
    "print(\"Weighted average polarity is:\", weighted_avg_polarity)"
   ]
  },
  {
   "cell_type": "markdown",
   "metadata": {},
   "source": [
    "#### Now generating a General report on how the video is being received:"
   ]
  },
  {
   "cell_type": "code",
   "execution_count": 24,
   "metadata": {},
   "outputs": [
    {
     "name": "stdout",
     "output_type": "stream",
     "text": [
      "How people are reacting on ['How to Dress Well for Indian men | Ranveer&#39;s LifeHacks | BeerBiceps Fashion'] by analyzing 100 comments.\n",
      "\n",
      "General Report: \n",
      "Weakly Positive\n"
     ]
    }
   ],
   "source": [
    "#printing our analysis\n",
    "print(\"How people are reacting on \" + str(info_dict[\"Video Title\"]) + \" by analyzing \" + str(len(df)) + \" comments.\") #We have taken 100 comments refer #get comments cell\n",
    "print()\n",
    "print(\"General Report: \")\n",
    "if (weighted_avg_polarity == 0):\n",
    "    print(\"Neutral\")\n",
    "elif (weighted_avg_polarity > 0 and weighted_avg_polarity <= 0.3):\n",
    "    print(\"Weakly Positive\")\n",
    "elif (weighted_avg_polarity > 0.3 and weighted_avg_polarity <= 0.6):\n",
    "    print(\"Positive\")\n",
    "elif (weighted_avg_polarity > 0.6 and weighted_avg_polarity <= 1):\n",
    "    print(\"Strongly Positive\")\n",
    "elif (weighted_avg_polarity > -0.3 and weighted_avg_polarity <= 0):\n",
    "    print(\"Weakly Negative\")\n",
    "elif (weighted_avg_polarity > -0.6 and weighted_avg_polarity <= -0.3):\n",
    "    print(\"Negative\")\n",
    "elif (weighted_avg_polarity > -1 and weighted_avg_polarity <= -0.6):\n",
    "    print(\"Strongly Negative\")"
   ]
  },
  {
   "cell_type": "raw",
   "metadata": {},
   "source": [
    "Taking just the polarity and likes into consideration"
   ]
  },
  {
   "cell_type": "code",
   "execution_count": 25,
   "metadata": {},
   "outputs": [
    {
     "data": {
      "text/html": [
       "<div>\n",
       "<style scoped>\n",
       "    .dataframe tbody tr th:only-of-type {\n",
       "        vertical-align: middle;\n",
       "    }\n",
       "\n",
       "    .dataframe tbody tr th {\n",
       "        vertical-align: top;\n",
       "    }\n",
       "\n",
       "    .dataframe thead th {\n",
       "        text-align: right;\n",
       "    }\n",
       "</style>\n",
       "<table border=\"1\" class=\"dataframe\">\n",
       "  <thead>\n",
       "    <tr style=\"text-align: right;\">\n",
       "      <th></th>\n",
       "      <th>polarity</th>\n",
       "      <th>Likes</th>\n",
       "    </tr>\n",
       "  </thead>\n",
       "  <tbody>\n",
       "    <tr>\n",
       "      <th>0</th>\n",
       "      <td>0.000</td>\n",
       "      <td>326</td>\n",
       "    </tr>\n",
       "    <tr>\n",
       "      <th>1</th>\n",
       "      <td>0.250</td>\n",
       "      <td>1217</td>\n",
       "    </tr>\n",
       "    <tr>\n",
       "      <th>2</th>\n",
       "      <td>0.000</td>\n",
       "      <td>191</td>\n",
       "    </tr>\n",
       "    <tr>\n",
       "      <th>3</th>\n",
       "      <td>-0.200</td>\n",
       "      <td>367</td>\n",
       "    </tr>\n",
       "    <tr>\n",
       "      <th>4</th>\n",
       "      <td>0.575</td>\n",
       "      <td>135</td>\n",
       "    </tr>\n",
       "  </tbody>\n",
       "</table>\n",
       "</div>"
      ],
      "text/plain": [
       "   polarity Likes\n",
       "0     0.000   326\n",
       "1     0.250  1217\n",
       "2     0.000   191\n",
       "3    -0.200   367\n",
       "4     0.575   135"
      ]
     },
     "execution_count": 25,
     "metadata": {},
     "output_type": "execute_result"
    }
   ],
   "source": [
    "#For a detailed report\n",
    "df2 = df.loc[:, ['polarity', 'Likes']] #using .iloc it would be df2 = df.iloc[:, [1,4]] col index 1 and 4\n",
    "df2.head(5)"
   ]
  },
  {
   "cell_type": "markdown",
   "metadata": {},
   "source": [
    "#### Printing a detailed report"
   ]
  },
  {
   "cell_type": "code",
   "execution_count": 26,
   "metadata": {},
   "outputs": [],
   "source": [
    "positive = 0\n",
    "wpositive = 0\n",
    "spositive = 0\n",
    "negative = 0\n",
    "wnegative = 0\n",
    "snegative = 0\n",
    "neutral = 0\n",
    "\n",
    "for index, row in islice(df2.iterrows(), 0, None):\n",
    "    if (row['polarity'] == 0.0):\n",
    "        neutral += 1 #person: the one who commented gave neutral reaction\n",
    "        neutral += row['Likes'] #The people who liked the comment have the same reaction\n",
    "    elif (row['polarity'] > 0.3 and row['polarity'] <=0.3):\n",
    "        wpositive += 1\n",
    "        wpositive += row['Likes']\n",
    "    elif (row['polarity'] > 0.3 and row['polarity'] <= 0.6):\n",
    "        positive += 1\n",
    "        positive += row['Likes']\n",
    "    elif (row['polarity'] > 0.6 and row['polarity'] <= 1):\n",
    "        spositive += 1\n",
    "        spositive += row['Likes']\n",
    "    elif (row['polarity'] > -0.3 and row['polarity'] <= 0):\n",
    "        wnegative += 1\n",
    "        wnegative += row['Likes']\n",
    "    elif (row['polarity'] > -0.6 and row['polarity'] <= -0.3):\n",
    "        negative += 1\n",
    "        negative += row['Likes']\n",
    "    elif (row['polarity'] > -1 and row['polarity'] <= -0.6):\n",
    "        snegative += 1\n",
    "        snegative += row['Likes']\n",
    "\n",
    "Total_reactions = positive + wpositive +spositive + negative +wnegative + snegative + neutral\n",
    "percent_positive = positive /Total_reactions\n",
    "percent_wpositive = wpositive/Total_reactions\n",
    "percent_spositive = spositive/Total_reactions\n",
    "percent_negative = negative/Total_reactions\n",
    "percent_wnegative = wnegative/Total_reactions\n",
    "percent_snegative = snegative/Total_reactions\n",
    "percent_neutral = neutral/Total_reactions"
   ]
  },
  {
   "cell_type": "code",
   "execution_count": 27,
   "metadata": {},
   "outputs": [
    {
     "name": "stdout",
     "output_type": "stream",
     "text": [
      "Detailed Report :\n",
      "--------------------------------------------------------------------------------\n",
      "0.16% people thought it was positive\n",
      "0.00% people thought it was weakly positive\n",
      "0.18% people thought it was strongly positive\n",
      "0.00% people thought it was negative\n",
      "0.08% people thought it was weakly negative\n",
      "0.00% people thought it was strongly negative\n",
      "0.58% people thought it was neutral\n"
     ]
    }
   ],
   "source": [
    "print(\"Detailed Report :\")\n",
    "print(\"-\"*80)\n",
    "\n",
    "print(str(\"{0:.2f}\".format(percent_positive)) + \"% people thought it was positive\")\n",
    "print(str(\"{0:.2f}\".format(percent_wpositive)) + \"% people thought it was weakly positive\")\n",
    "print(str(\"{0:.2f}\".format(percent_spositive)) + \"% people thought it was strongly positive\")\n",
    "print(str(\"{0:.2f}\".format(percent_negative)) + \"% people thought it was negative\")\n",
    "print(str(\"{0:.2f}\".format(percent_wnegative)) + \"% people thought it was weakly negative\")\n",
    "print(str(\"{0:.2f}\".format(percent_snegative)) + \"% people thought it was strongly negative\")\n",
    "print(str(\"{0:.2f}\".format(percent_neutral)) + \"% people thought it was neutral\")"
   ]
  },
  {
   "cell_type": "markdown",
   "metadata": {},
   "source": [
    "####  Plotting a Pie chart to show the sentiments"
   ]
  },
  {
   "cell_type": "code",
   "execution_count": 28,
   "metadata": {},
   "outputs": [
    {
     "data": {
      "image/png": "[encoded data removed]",
      "text/plain": [
       "<Figure size 720x720 with 1 Axes>"
      ]
     },
     "metadata": {},
     "output_type": "display_data"
    }
   ],
   "source": [
    "import matplotlib.pyplot as plt\n",
    "\n",
    "# Data to plot\n",
    "fig = plt.figure(figsize=(10,10))\n",
    "ax = fig.add_axes((0,0,.5,1))\n",
    "ax.set_title('Pie chart of Sentiments in Recorded Comments', \n",
    "             bbox={'facecolor':'0.8', 'pad':3})\n",
    "labels = 'positive', 'weakly positive', 'strongly positive', 'negative','weakly negative', 'strongly negative', 'neutral'\n",
    "sizes = [positive, wpositive, spositive, negative, wnegative , snegative, neutral]\n",
    "colors = ['limegreen', 'forestgreen', 'palegreen', 'orangered', 'red','darkred', 'yellow',]\n",
    "explode = (0, 0, 0, 0, 0, 0, 0)  \n",
    "\n",
    "# Plot\n",
    "plt.pie(sizes, explode=explode, labels=labels, colors=colors,\n",
    "autopct='%1.2f%%', shadow=True)\n",
    "plt.show()"
   ]
  },
  {
   "cell_type": "code",
   "execution_count": null,
   "metadata": {},
   "outputs": [],
   "source": []
  }
 ],
 "metadata": {
  "kernelspec": {
   "display_name": "Python 3",
   "language": "python",
   "name": "python3"
  },
  "language_info": {
   "codemirror_mode": {
    "name": "ipython",
    "version": 3
   },
   "file_extension": ".py",
   "mimetype": "text/x-python",
   "name": "python",
   "nbconvert_exporter": "python",
   "pygments_lexer": "ipython3",
   "version": "3.7.3"
  }
 },
 "nbformat": 4,
 "nbformat_minor": 4
}
